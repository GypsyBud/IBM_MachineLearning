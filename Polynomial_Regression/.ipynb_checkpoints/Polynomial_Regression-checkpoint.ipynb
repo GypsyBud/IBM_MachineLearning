{
 "cells": [
  {
   "cell_type": "code",
   "execution_count": null,
   "metadata": {},
   "outputs": [],
   "source": [
    "#IBM Machine Learning course on coursera.com\n",
    "#Polynomial Regression Model\n",
    "#Yana Hrytsenko\n",
    "\n",
    "#Importing Needed packages\n",
    "import matplotlib.pyplot as plt\n",
    "import pandas as pd\n",
    "import pylab as pl\n",
    "import numpy as np\n",
    "%matplotlib inline"
   ]
  },
  {
   "cell_type": "code",
   "execution_count": null,
   "metadata": {},
   "outputs": [],
   "source": [
    "#Downloading Data\n",
    "#To download the data, we will use !wget to download it from IBM Object Storage\n",
    "!wget -O FuelConsumption.csv https://s3-api.us-geo.objectstorage.softlayer.net/cf-courses-data/CognitiveClass/ML0101ENv3/labs/FuelConsumptionCo2.csv"
   ]
  },
  {
   "cell_type": "code",
   "execution_count": null,
   "metadata": {},
   "outputs": [],
   "source": [
    "#Reading the data in\n",
    "df = pd.read_csv(\"FuelConsumption.csv\")\n",
    "\n",
    "# take a look at the dataset\n",
    "df.head()"
   ]
  },
  {
   "cell_type": "code",
   "execution_count": null,
   "metadata": {},
   "outputs": [],
   "source": [
    "#Lets select some features that we want to use for regression.\n",
    "cdf = df[['ENGINESIZE','CYLINDERS','FUELCONSUMPTION_COMB','CO2EMISSIONS']]\n",
    "cdf.head(9)"
   ]
  },
  {
   "cell_type": "code",
   "execution_count": null,
   "metadata": {},
   "outputs": [],
   "source": [
    "#Lets plot Emission values with respect to Engine size:\n",
    "plt.scatter(cdf.ENGINESIZE, cdf.CO2EMISSIONS,  color='blue')\n",
    "plt.xlabel(\"Engine size\")\n",
    "plt.ylabel(\"Emission\")\n",
    "plt.show()"
   ]
  },
  {
   "cell_type": "code",
   "execution_count": null,
   "metadata": {},
   "outputs": [],
   "source": [
    "#Creating train and test dataset\n",
    "#Train/Test Split involves splitting the dataset into training and testing sets respectively, \n",
    "#which are mutually exclusive. After which, you train with the training set and test with the testing set.\n",
    "msk = np.random.rand(len(df)) < 0.8\n",
    "train = cdf[msk]\n",
    "test = cdf[~msk]"
   ]
  },
  {
   "cell_type": "code",
   "execution_count": null,
   "metadata": {},
   "outputs": [],
   "source": [
    "#Polynomial regression\n",
    "'''\n",
    "Sometimes, the trend of data is not really linear, and looks curvy. \n",
    "In this case we can use Polynomial regression methods. \n",
    "In fact, many different regressions exist that can be used to fit whatever the dataset looks like,\n",
    "such as quadratic, cubic, and so on, and it can go on and on to infinite degrees.\n",
    "\n",
    "In essence, we can call all of these, polynomial regression, \n",
    "where the relationship between the independent variable x and the dependent variable y \n",
    "is modeled as an nth degree polynomial in x. Lets say you want to have a polynomial regression \n",
    "(let's make 2 degree polynomial):\n",
    "\n",
    "𝑦=𝑏+𝜃1𝑥+𝜃2𝑥^2\n",
    "Now, the question is: how we can fit our data on this equation \n",
    "while we have only x values, such as Engine Size? \n",
    "Well, we can create a few additional features: 1,  𝑥 , and  𝑥2 .\n",
    "\n",
    "PloynomialFeatures() function in Scikit-learn library, drives a new feature sets from the original feature set. \n",
    "That is, a matrix will be generated consisting of all polynomial combinations of the features with degree less than or equal to the specified degree. For example, lets say the original feature set has only one feature, ENGINESIZE. Now, if we select the degree of the polynomial to be 2, then it generates 3 features, degree=0, degree=1 and degree=2:\n",
    "'''"
   ]
  },
  {
   "cell_type": "code",
   "execution_count": null,
   "metadata": {},
   "outputs": [],
   "source": [
    "from sklearn.preprocessing import PolynomialFeatures\n",
    "from sklearn import linear_model\n",
    "train_x = np.asanyarray(train[['ENGINESIZE']])\n",
    "train_y = np.asanyarray(train[['CO2EMISSIONS']])\n",
    "\n",
    "test_x = np.asanyarray(test[['ENGINESIZE']])\n",
    "test_y = np.asanyarray(test[['CO2EMISSIONS']])\n",
    "\n",
    "\n",
    "poly = PolynomialFeatures(degree=2)\n",
    "train_x_poly = poly.fit_transform(train_x)\n"
   ]
  },
  {
   "cell_type": "code",
   "execution_count": null,
   "metadata": {},
   "outputs": [],
   "source": [
    "'''\n",
    "It looks like feature sets for multiple linear regression analysis, right? \n",
    "Yes. It Does. Indeed, Polynomial regression is a special case of linear regression, \n",
    "with the main idea of how do you select your features. \n",
    "Just consider replacing the  𝑥  with  𝑥1 ,  𝑥21  with  𝑥2 , and so on. Then the degree 2 equation would be turn into:\n",
    "\n",
    "𝑦=𝑏+𝜃1𝑥1+𝜃2𝑥2 \n",
    "\n",
    "Now, we can deal with it as 'linear regression' problem. \n",
    "Therefore, this polynomial regression is considered to be a special case of traditional multiple linear regression. \n",
    "So, you can use the same mechanism as linear regression to solve such a problems.\n",
    "\n",
    "so we can use LinearRegression() function to solve it:\n",
    "'''"
   ]
  },
  {
   "cell_type": "code",
   "execution_count": null,
   "metadata": {},
   "outputs": [],
   "source": []
  }
 ],
 "metadata": {
  "kernelspec": {
   "display_name": "Python 3",
   "language": "python",
   "name": "python3"
  },
  "language_info": {
   "codemirror_mode": {
    "name": "ipython",
    "version": 3
   },
   "file_extension": ".py",
   "mimetype": "text/x-python",
   "name": "python",
   "nbconvert_exporter": "python",
   "pygments_lexer": "ipython3",
   "version": "3.7.3"
  }
 },
 "nbformat": 4,
 "nbformat_minor": 2
}
